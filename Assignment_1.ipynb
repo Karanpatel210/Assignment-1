{
  "nbformat": 4,
  "nbformat_minor": 0,
  "metadata": {
    "colab": {
      "provenance": []
    },
    "kernelspec": {
      "name": "python3",
      "display_name": "Python 3"
    },
    "language_info": {
      "name": "python"
    }
  },
  "cells": [
    {
      "cell_type": "markdown",
      "source": [
        "# **Python Basics Questions**"
      ],
      "metadata": {
        "id": "hzVY3xye8Wpe"
      }
    },
    {
      "cell_type": "markdown",
      "source": [
        "1. What is Python, and why is it popular?\n",
        "  - python is programing lanunage where computer/machine understend command and give reuslt accordingly\n",
        "  - Python is popular because it is easy to learn, and it has 1,37,000 library so it will give best support to developer\n",
        "\n",
        "2.  What is an interpreter in Python?\n",
        "  - interpreter help to read code and run code step by step wich mean implement command\n",
        "\n",
        "3.  What are pre-defined keywords in Python?\n",
        "  - Pre define keywords is reserve in python which can't use for name or any other use\n",
        "  - Example: and, if, elif, or, else\n",
        "\n",
        "4. Can keywords be used as variable names?\n",
        "  - No, keywords are reserved in python it can't be use as variable name, it result in error\n",
        "\n",
        "5. What is mutability in Python?\n",
        "  - it is python allow variable to typecast/changetype of variable\n",
        "  - Example:\n",
        "\n",
        "    int to flol\n",
        "    \n",
        "    flot to str\n",
        "\n",
        "6. Why are lists mutable, but tuples are immutable?\n",
        "  - Lists are mutable beacause you can change them after you create them. You can append new items, remove items, or change existing items.\n",
        "  - Tuples are immutable, which means you cannot change them once they are created. You can't add, remove, or change items in a tuple.\n",
        "\n",
        "7.  What is the difference between “==” and “is” operators in Python?\n",
        "  - \"==\" and \"is\" are deffrent operators\n",
        "  - \"==\" chack value of 2 different variable\n",
        "  \n",
        "  Example:\n",
        "           a = (1,2,3)\n",
        "           b = (1,2,3)\n",
        "           print(a ==B)\n",
        "           True\n",
        "\n",
        "  - \"is\" chack variable\n",
        "\n",
        "  Example:\n",
        "           a = (1,2,3)\n",
        "           b = a\n",
        "           c = (1,2,3)\n",
        "           print(a is b)\n",
        "           True\n",
        "           print(a is c)\n",
        "           False\n",
        "\n",
        "8. What are logical operators in Python?\n",
        "  - It will help tomake decision or give boolean value\n",
        "    and\n",
        "  if all condotin satisfied then it will give true\n",
        "\n",
        "    or\n",
        "  if any 1 condotin satisfied then it will give true\n",
        "\n",
        "    not\n",
        "  if all condotin not satisfied then it will give true\n",
        "\n",
        "\n",
        "  otherwise it will give false value\n",
        "\n",
        "9. What is type casting in Python?\n",
        "  - type casting allow you to change type of variable  \n",
        "\n",
        "10.  What is the difference between implicit and explicit type casting?\n",
        "  - Implicit typecasting\n",
        "    automatic it mean python atomatically convert type without need any code\n",
        "  \n",
        "  example: a = 1    #int\n",
        "           b = 1.1  #float\n",
        "           print(a+b)\n",
        "           1.1 #float\n",
        "\n",
        "11.  What is the purpose of conditional statements in Python?\n",
        "  - conditional statements are give control over code\n",
        "  example :    \n",
        "  if\n",
        "  else\n",
        "  elif\n",
        "\n",
        "12.  How does the elif statement work?\n",
        "  - elif use to chack different contition after if\n",
        "  age = 25\n",
        "if age > 60:\n",
        "  print(\"You can enjoy alcohol at 10% disscount\")\n",
        "elif age > 21:\n",
        "  print(\"You can enjoy alcohol at MRP\")\n",
        "else:\n",
        "  print(\"Your legal age don't allow to serve alcohol\")\n",
        "13.  What is the difference between for and while loops?\n",
        "  - for loop is use when you have predetermine number for iterations\n",
        "  - while loop is use when you don't have predetermine number of iteration\n",
        "14.  Describe a scenario where a while loop is more suitable than a for loop.\n",
        "  - Example\n",
        "  \n",
        "correct_password = \"Karan\"  \n",
        "user_password = \"\"\n",
        "\n",
        "while user_password != correct_password:  \n",
        "    user_password = input(\"Please enter your password: \")  \n",
        "    if user_password == correct_password:  \n",
        "        print(\"Access granted.\")  \n",
        "    else:  \n",
        "        print(\"Incorrect password, try again.\")"
      ],
      "metadata": {
        "id": "DP3_3YT38oRH"
      }
    },
    {
      "cell_type": "code",
      "source": [
        " #1.  Write a Python program to print \"Hello, World!\"\n",
        " print(\"Hello, World!\")"
      ],
      "metadata": {
        "colab": {
          "base_uri": "https://localhost:8080/"
        },
        "id": "O9Fa6mgdWVDa",
        "outputId": "33a86b72-95e9-4ec3-adfb-faa070d7ba70"
      },
      "execution_count": null,
      "outputs": [
        {
          "output_type": "stream",
          "name": "stdout",
          "text": [
            "Hello, World!\n"
          ]
        }
      ]
    },
    {
      "cell_type": "code",
      "source": [
        "#2.  Write a Python program that displays your name and age\n",
        "name = \"Karan Patel\"\n",
        "age = 25\n",
        "print(name, age)"
      ],
      "metadata": {
        "colab": {
          "base_uri": "https://localhost:8080/"
        },
        "id": "fGMSyLMKYAID",
        "outputId": "b84ce682-2dfb-4bce-b7a0-73854a1bf1bd"
      },
      "execution_count": null,
      "outputs": [
        {
          "output_type": "stream",
          "name": "stdout",
          "text": [
            "Karan Patel 25\n"
          ]
        }
      ]
    },
    {
      "cell_type": "code",
      "source": [
        "#3. Write code to print all the pre-defined keywords in Python using the keyword library\n",
        "import keyword\n",
        "print(keyword.kwlist)"
      ],
      "metadata": {
        "colab": {
          "base_uri": "https://localhost:8080/"
        },
        "id": "RJWLi2nYYfXB",
        "outputId": "8c07511d-7e74-4d23-efc2-910896ccdb93"
      },
      "execution_count": null,
      "outputs": [
        {
          "output_type": "stream",
          "name": "stdout",
          "text": [
            "['False', 'None', 'True', 'and', 'as', 'assert', 'async', 'await', 'break', 'class', 'continue', 'def', 'del', 'elif', 'else', 'except', 'finally', 'for', 'from', 'global', 'if', 'import', 'in', 'is', 'lambda', 'nonlocal', 'not', 'or', 'pass', 'raise', 'return', 'try', 'while', 'with', 'yield']\n"
          ]
        }
      ]
    },
    {
      "cell_type": "code",
      "source": [
        "#4.  Write a program that checks if a given word is a Python keyword\n",
        "import keyword\n",
        "word = input(\"Enter a word: \")\n",
        "if keyword.iskeyword(word):\n",
        "    print(f\"{word} is a Python keyword.\")\n",
        "else:\n",
        "    print(f\"{word} is not a Python keyword.\")"
      ],
      "metadata": {
        "colab": {
          "base_uri": "https://localhost:8080/"
        },
        "id": "NmShF22VZ1L-",
        "outputId": "52d581b4-1a55-4da0-cb8d-6719bc97bc85"
      },
      "execution_count": null,
      "outputs": [
        {
          "output_type": "stream",
          "name": "stdout",
          "text": [
            "Enter a word: is\n",
            "is is a Python keyword.\n"
          ]
        }
      ]
    },
    {
      "cell_type": "code",
      "source": [
        "#5.  Create a list and tuple in Python, and demonstrate how attempting to change an element works differently for each\n"
      ],
      "metadata": {
        "id": "UsU37FxPbcQo"
      },
      "execution_count": null,
      "outputs": []
    },
    {
      "cell_type": "code",
      "source": [
        "#6.  Write a function to demonstrate the behavior of mutable and immutable arguments"
      ],
      "metadata": {
        "id": "tdHhAkcHlfMr"
      },
      "execution_count": null,
      "outputs": []
    },
    {
      "cell_type": "code",
      "source": [
        "#7.  Write a function to demonstrate the behavior of mutable and immutable arguments"
      ],
      "metadata": {
        "id": "Hq3I-zN-lpzH"
      },
      "execution_count": null,
      "outputs": []
    },
    {
      "cell_type": "code",
      "source": [
        "#8. Write a program to demonstrate the use of logical operators\n",
        "\n",
        "adult = True\n",
        "member = True\n",
        "\n",
        "# Using logical operator 'and'\n",
        "if adult and member:\n",
        "    print(\"You get a discount.\")\n",
        "else:\n",
        "    print(\"You do not qualify for a discount.\")\n",
        "\n",
        "# Using logical operator 'or'\n",
        "if adult or member:\n",
        "    print(\"You can access the adult area.\")\n",
        "else:\n",
        "    print(\"You cannot access the adult area.\")\n",
        "\n",
        "# Using logical operator 'not'\n",
        "if not member:\n",
        "    print(\"You need to become a member for additional benefits.\")\n",
        "else:\n",
        "    print(\"Welcome you are already a member.\")"
      ],
      "metadata": {
        "colab": {
          "base_uri": "https://localhost:8080/"
        },
        "id": "cnpuSnlWl99V",
        "outputId": "4e5dc1f2-6e8e-4d29-8ca4-c97e9eab8688"
      },
      "execution_count": null,
      "outputs": [
        {
          "output_type": "stream",
          "name": "stdout",
          "text": [
            "You get a discount.\n",
            "You can access the adult area.\n",
            "Welcome you are already a member.\n"
          ]
        }
      ]
    },
    {
      "cell_type": "code",
      "source": [
        "#9. Write a Python program to convert user input from string to integer, float, and boolean types\n",
        "a = input(\"Enter_value: \")\n",
        "type(int(a))\n",
        "print(f\" {type(int_value)}), {(int_value)}\")\n",
        "type(float(a))\n",
        "print(f\" {type(float_value)}), {(float_value)}\")\n",
        "type(bool(a))\n",
        "print(f\" {type(bool_value)}), {(bool_value)}\")\n"
      ],
      "metadata": {
        "colab": {
          "base_uri": "https://localhost:8080/"
        },
        "id": "Z3PsZ5c3n4Wl",
        "outputId": "d7728b90-e494-4463-e0f6-33d755f438c0"
      },
      "execution_count": null,
      "outputs": [
        {
          "output_type": "stream",
          "name": "stdout",
          "text": [
            "Enter_value: 4\n",
            " <class 'int'>), 2\n",
            " <class 'float'>), 2.0\n",
            " <class 'bool'>), True\n"
          ]
        }
      ]
    },
    {
      "cell_type": "code",
      "source": [
        "#10. Write code to demonstrate type casting with list elements\n"
      ],
      "metadata": {
        "id": "cTAi80fHwtwB"
      },
      "execution_count": null,
      "outputs": []
    },
    {
      "cell_type": "code",
      "source": [
        "#11.  Write a program that checks if a number is positive, negative, or zero"
      ],
      "metadata": {
        "id": "1UQePMUnx1d-"
      },
      "execution_count": null,
      "outputs": []
    },
    {
      "cell_type": "code",
      "source": [
        "#12.  Write a for loop to print numbers from 1 to 10\n",
        "for i in range(1,11):\n",
        "  print(i)"
      ],
      "metadata": {
        "colab": {
          "base_uri": "https://localhost:8080/"
        },
        "id": "uVOAKnPVyBfh",
        "outputId": "215e30b2-0d4b-42cc-dde1-492fb14118ef"
      },
      "execution_count": null,
      "outputs": [
        {
          "output_type": "stream",
          "name": "stdout",
          "text": [
            "1\n",
            "2\n",
            "3\n",
            "4\n",
            "5\n",
            "6\n",
            "7\n",
            "8\n",
            "9\n",
            "10\n"
          ]
        }
      ]
    },
    {
      "cell_type": "code",
      "source": [
        " #13. Write a Python program to find the sum of all even numbers between 1 and 50\n",
        "a = 0\n",
        "for number in range(1, 51):\n",
        "    if number % 2 == 0:\n",
        "      a += number\n",
        "      print(number)\n",
        "\n",
        "print(f\"Sum of even numbers between 1 and 50: {a}\")\n"
      ],
      "metadata": {
        "colab": {
          "base_uri": "https://localhost:8080/"
        },
        "id": "QjykY1ueyLjF",
        "outputId": "b646ab90-203e-41a8-d7c5-6e0649284cbc"
      },
      "execution_count": null,
      "outputs": [
        {
          "output_type": "stream",
          "name": "stdout",
          "text": [
            "2\n",
            "4\n",
            "6\n",
            "8\n",
            "10\n",
            "12\n",
            "14\n",
            "16\n",
            "18\n",
            "20\n",
            "22\n",
            "24\n",
            "26\n",
            "28\n",
            "30\n",
            "32\n",
            "34\n",
            "36\n",
            "38\n",
            "40\n",
            "42\n",
            "44\n",
            "46\n",
            "48\n",
            "50\n",
            "Sum of even numbers between 1 and 50: 650\n"
          ]
        }
      ]
    },
    {
      "cell_type": "code",
      "source": [
        "#14. Write a program to reverse a string using a while loop"
      ],
      "metadata": {
        "id": "9Zi5d2VP0ARs"
      },
      "execution_count": null,
      "outputs": []
    },
    {
      "cell_type": "code",
      "source": [
        "#15.  Write a Python program to calculate the factorial of a number provided by the user using a while loop."
      ],
      "metadata": {
        "id": "vBstTyk70FOO"
      },
      "execution_count": null,
      "outputs": []
    }
  ]
}